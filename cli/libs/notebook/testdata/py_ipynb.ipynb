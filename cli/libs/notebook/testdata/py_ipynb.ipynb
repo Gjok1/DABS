{
 "cells": [
  {
   "cell_type": "code",
   "execution_count": 0,
   "metadata": {
    "application/vnd.databricks.v1+cell": {
     "cellMetadata": {},
     "inputWidgets": {},
     "nuid": "05030541-8399-4226-a499-f11b4910888c",
     "showTitle": false,
     "title": ""
    }
   },
   "outputs": [],
   "source": [
    "# Hello world!"
   ]
  }
 ],
 "metadata": {
  "application/vnd.databricks.v1+notebook": {
   "dashboards": [],
   "language": "python",
   "notebookMetadata": {
    "pythonIndentUnit": 2
   },
   "notebookName": "py_ipynb",
   "notebookOrigID": 4221142147066610,
   "widgets": {}
  }
 },
 "nbformat": 4,
 "nbformat_minor": 0
}
