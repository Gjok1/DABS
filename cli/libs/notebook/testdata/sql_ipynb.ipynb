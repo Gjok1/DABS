{
 "cells": [
  {
   "cell_type": "code",
   "execution_count": 0,
   "metadata": {
    "application/vnd.databricks.v1+cell": {
     "cellMetadata": {},
     "inputWidgets": {},
     "nuid": "3c312bc0-4ddb-452e-8fff-46f7ef4dc192",
     "showTitle": false,
     "title": ""
    }
   },
   "outputs": [],
   "source": [
    "-- Hello world!"
   ]
  }
 ],
 "metadata": {
  "application/vnd.databricks.v1+notebook": {
   "dashboards": [],
   "language": "sql",
   "notebookMetadata": {},
   "notebookName": "sql_ipynb",
   "notebookOrigID": 4221142147066618,
   "widgets": {}
  }
 },
 "nbformat": 4,
 "nbformat_minor": 0
}
