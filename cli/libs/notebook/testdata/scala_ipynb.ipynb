{
 "cells": [
  {
   "cell_type": "code",
   "execution_count": 0,
   "metadata": {
    "application/vnd.databricks.v1+cell": {
     "cellMetadata": {},
     "inputWidgets": {},
     "nuid": "6fd947a6-681e-489d-8976-ca98b21a82b8",
     "showTitle": false,
     "title": ""
    }
   },
   "outputs": [],
   "source": [
    "// Hello world!"
   ]
  }
 ],
 "metadata": {
  "application/vnd.databricks.v1+notebook": {
   "dashboards": [],
   "language": "scala",
   "notebookMetadata": {},
   "notebookName": "scala_ipynb",
   "notebookOrigID": 4221142147066616,
   "widgets": {}
  }
 },
 "nbformat": 4,
 "nbformat_minor": 0
}
