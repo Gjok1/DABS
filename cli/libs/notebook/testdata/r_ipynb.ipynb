{
 "cells": [
  {
   "cell_type": "code",
   "execution_count": 0,
   "metadata": {
    "application/vnd.databricks.v1+cell": {
     "cellMetadata": {},
     "inputWidgets": {},
     "nuid": "e4b5f2c8-e2c5-49a1-86a3-8e66b5905c56",
     "showTitle": false,
     "title": ""
    }
   },
   "outputs": [],
   "source": [
    "# Hello world!"
   ]
  }
 ],
 "metadata": {
  "application/vnd.databricks.v1+notebook": {
   "dashboards": [],
   "language": "r",
   "notebookMetadata": {},
   "notebookName": "r_ipynb",
   "notebookOrigID": 4221142147066614,
   "widgets": {}
  }
 },
 "nbformat": 4,
 "nbformat_minor": 0
}
